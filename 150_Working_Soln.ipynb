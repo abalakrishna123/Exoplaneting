{
 "cells": [
  {
   "cell_type": "code",
   "execution_count": 36,
   "metadata": {
    "collapsed": true
   },
   "outputs": [],
   "source": [
    "import numpy as np\n",
    "import pandas as pd\n",
    "import matplotlib.pyplot as plt\n",
    "import seaborn as sns\n",
    "import scipy as sp\n",
    "from scipy import signal\n",
    "from  scipy import ndimage\n",
    "import matplotlib\n",
    "from scipy import stats\n",
    "import warnings\n",
    "warnings.filterwarnings('ignore')\n",
    "\n",
    "%matplotlib inline"
   ]
  },
  {
   "cell_type": "code",
   "execution_count": 2,
   "metadata": {
    "collapsed": true
   },
   "outputs": [],
   "source": [
    "extrain = pd.read_csv('data/exoTrain.csv')\n",
    "extest = pd.read_csv('data/exoTest.csv')"
   ]
  },
  {
   "cell_type": "code",
   "execution_count": 3,
   "metadata": {
    "collapsed": true
   },
   "outputs": [],
   "source": [
    "def detrender_normalizer(X):\n",
    "    flux1 = X\n",
    "    flux2 = ndimage.filters.gaussian_filter(flux1, sigma=10)\n",
    "    flux3 = flux1 - flux2\n",
    "    flux3normalized = (flux3-np.mean(flux3)) / (np.max(flux3)-np.min(flux3))\n",
    "    return flux3normalized"
   ]
  },
  {
   "cell_type": "code",
   "execution_count": 4,
   "metadata": {
    "collapsed": true
   },
   "outputs": [],
   "source": [
    "extrain.iloc[:,1:] = extrain.iloc[:,1:].apply(detrender_normalizer,axis=1)\n",
    "extest.iloc[:,1:] = extest.iloc[:,1:].apply(detrender_normalizer,axis=1)"
   ]
  },
  {
   "cell_type": "code",
   "execution_count": 5,
   "metadata": {
    "collapsed": false
   },
   "outputs": [
    {
     "name": "stderr",
     "output_type": "stream",
     "text": [
      "/Users/abalakrishna/.local/lib/python2.7/site-packages/sklearn/cross_validation.py:41: DeprecationWarning: This module was deprecated in version 0.18 in favor of the model_selection module into which all the refactored classes and functions are moved. Also note that the interface of the new CV iterators are different from that of this module. This module will be removed in 0.20.\n",
      "  \"This module will be removed in 0.20.\", DeprecationWarning)\n"
     ]
    }
   ],
   "source": [
    "import warnings\n",
    "warnings.filterwarnings('ignore')\n",
    "\n",
    "from sklearn.svm import LinearSVC\n",
    "from sklearn.cross_validation import train_test_split\n",
    "from sklearn.metrics import accuracy_score, precision_score, recall_score\n",
    "from sklearn.ensemble import GradientBoostingClassifier\n",
    "from sklearn.svm import SVC\n",
    "from sklearn.model_selection import StratifiedKFold"
   ]
  },
  {
   "cell_type": "code",
   "execution_count": 6,
   "metadata": {
    "collapsed": false
   },
   "outputs": [],
   "source": [
    "from imblearn.over_sampling import SMOTE"
   ]
  },
  {
   "cell_type": "code",
   "execution_count": 7,
   "metadata": {
    "collapsed": false
   },
   "outputs": [],
   "source": [
    "def model_evaluator(X, y, model, n_splits=10):\n",
    "    skf = StratifiedKFold(n_splits=n_splits)\n",
    "    \n",
    "    bootstrapped_accuracies = list()\n",
    "    bootstrapped_precisions = list()\n",
    "    bootstrapped_recalls    = list()\n",
    "    \n",
    "    for train_index, test_index in skf.split(X, y):\n",
    "        print 'in loop'\n",
    "        X_train, X_test = X.iloc[train_index], X.iloc[test_index]\n",
    "        y_train, y_test = y[train_index], y[test_index]\n",
    "                \n",
    "        df_train    = X_train.join(y_train)\n",
    "        df_planet   = df_train[df_train.LABEL == 2].reset_index(drop=True)\n",
    "        df_noplanet = df_train[df_train.LABEL == 1].reset_index(drop=True)\n",
    "        df_boot     = df_noplanet\n",
    "                        \n",
    "        index = np.arange(0, df_planet.shape[0])\n",
    "        temp_index = np.random.choice(index, size=df_noplanet.shape[0])\n",
    "        df_boot = df_boot.append(df_planet.iloc[temp_index])\n",
    "        \n",
    "        df_boot = df_boot.reset_index(drop=True)\n",
    "        X_train_boot = df_boot.drop('LABEL', axis=1)\n",
    "        y_train_boot = df_boot.LABEL\n",
    "                    \n",
    "        est_boot = model.fit(X_train_boot, y_train_boot)\n",
    "        y_test_pred = est_boot.predict(X_test)\n",
    "        \n",
    "        bootstrapped_accuracies.append(accuracy_score(y_test, y_test_pred))\n",
    "        bootstrapped_precisions.append(precision_score(y_test, y_test_pred, pos_label=2))\n",
    "        bootstrapped_recalls.append(recall_score(y_test, y_test_pred, pos_label=2))\n",
    "\n",
    "    print \"Average Accuracy \" + str( np.mean(bootstrapped_accuracies))\n",
    "    print \"Average Precision \" + str( np.mean(bootstrapped_precisions))\n",
    "    print \"Average Recall \" + str( np.mean(bootstrapped_recalls))\n"
   ]
  },
  {
   "cell_type": "code",
   "execution_count": 8,
   "metadata": {
    "collapsed": true
   },
   "outputs": [],
   "source": [
    "X = extrain.drop('LABEL', axis=1)\n",
    "y = extrain.LABEL"
   ]
  },
  {
   "cell_type": "code",
   "execution_count": 9,
   "metadata": {
    "collapsed": false
   },
   "outputs": [
    {
     "name": "stdout",
     "output_type": "stream",
     "text": [
      "in loop\n",
      "in loop\n",
      "in loop\n",
      "in loop\n",
      "in loop\n",
      "in loop\n",
      "in loop\n",
      "in loop\n",
      "in loop\n",
      "in loop\n",
      "Average Accuracy 0.99370968241\n",
      "Average Precision 0.4\n",
      "Average Recall 0.125\n"
     ]
    }
   ],
   "source": [
    "model_evaluator(X, y, GradientBoostingClassifier())"
   ]
  },
  {
   "cell_type": "code",
   "execution_count": 10,
   "metadata": {
    "collapsed": true
   },
   "outputs": [],
   "source": [
    "import scipy"
   ]
  },
  {
   "cell_type": "code",
   "execution_count": 11,
   "metadata": {
    "collapsed": false
   },
   "outputs": [],
   "source": [
    "def spectrum_getter(X):\n",
    "    Spectrum = scipy.fft(X, n=X.size)\n",
    "    return np.abs(Spectrum)"
   ]
  },
  {
   "cell_type": "code",
   "execution_count": 12,
   "metadata": {
    "collapsed": true
   },
   "outputs": [],
   "source": [
    "X_train = extrain.drop('LABEL', axis=1)\n",
    "y_train = extrain.LABEL\n",
    "\n",
    "X_test = extest.drop('LABEL', axis=1)\n",
    "y_test = extest.LABEL"
   ]
  },
  {
   "cell_type": "code",
   "execution_count": 13,
   "metadata": {
    "collapsed": true
   },
   "outputs": [],
   "source": [
    "new_X_train = X_train.apply(spectrum_getter,axis=1)\n",
    "new_X_test = X_test.apply(spectrum_getter,axis=1)"
   ]
  },
  {
   "cell_type": "code",
   "execution_count": 14,
   "metadata": {
    "collapsed": true
   },
   "outputs": [],
   "source": [
    "# Segregate data for desigining the model and for the final test\n",
    "y = y_train\n",
    "X = new_X_train\n",
    "\n",
    "y_final_test = y_test\n",
    "X_final_test = new_X_test"
   ]
  },
  {
   "cell_type": "code",
   "execution_count": 15,
   "metadata": {
    "collapsed": false
   },
   "outputs": [
    {
     "data": {
      "text/plain": [
       "[<matplotlib.lines.Line2D at 0x1006371d0>]"
      ]
     },
     "execution_count": 15,
     "metadata": {},
     "output_type": "execute_result"
    },
    {
     "data": {
      "image/png": "[encoded data removed]",
      "text/plain": [
       "<matplotlib.figure.Figure at 0x1105b9090>"
      ]
     },
     "metadata": {},
     "output_type": "display_data"
    }
   ],
   "source": [
    "df = X.join(y)\n",
    "i = 13\n",
    "spec1 = df[df.LABEL == 2].drop('LABEL', axis=1).iloc[i,:]\n",
    "freq = np.arange(len(spec1)) * (1/(36.0*60.0)) # Sampling frequency is 1 frame per ~36 minutes, or about 0.00046 Hz\n",
    "plt.figure(figsize=(15,5))\n",
    "plt.title('Frequency spectrum of processed flux of star {} with confirmed exoplanets (removed upper outliers)'\n",
    "          .format(i+1))\n",
    "plt.ylabel('Unitless flux')\n",
    "plt.xlabel('Frequency, Hz')\n",
    "plt.plot(freq, spec1)"
   ]
  },
  {
   "cell_type": "code",
   "execution_count": 16,
   "metadata": {
    "collapsed": true
   },
   "outputs": [],
   "source": [
    "X = X.iloc[:,:(X.shape[1]//2)]\n",
    "X_final_test = X_final_test.iloc[:,:(X_final_test.shape[1]//2)]"
   ]
  },
  {
   "cell_type": "code",
   "execution_count": 17,
   "metadata": {
    "collapsed": false
   },
   "outputs": [],
   "source": [
    "X_columns = np.arange(len(X.columns))\n",
    "X_columns = X_columns * (1.0/(36.0*60.0)) # sampling frequency of our data\n",
    "X.columns = X_columns\n",
    "X_final_test.columns = X_columns"
   ]
  },
  {
   "cell_type": "code",
   "execution_count": 18,
   "metadata": {
    "collapsed": true
   },
   "outputs": [],
   "source": [
    "from sklearn.preprocessing import normalize\n",
    "X = pd.DataFrame(normalize(X))\n",
    "X_final_test = pd.DataFrame(normalize(X_final_test))"
   ]
  },
  {
   "cell_type": "code",
   "execution_count": 19,
   "metadata": {
    "collapsed": false
   },
   "outputs": [
    {
     "name": "stdout",
     "output_type": "stream",
     "text": [
      "in loop\n",
      "in loop\n",
      "in loop\n",
      "in loop\n",
      "in loop\n",
      "in loop\n",
      "in loop\n",
      "in loop\n",
      "in loop\n",
      "in loop\n",
      "Average Accuracy 0.996462107266\n",
      "Average Precision 0.9\n",
      "Average Recall 0.516666666667\n"
     ]
    }
   ],
   "source": [
    "model_evaluator(X, y, GradientBoostingClassifier())"
   ]
  },
  {
   "cell_type": "code",
   "execution_count": 20,
   "metadata": {
    "collapsed": false
   },
   "outputs": [],
   "source": [
    "def SMOTE_synthesizer(X, y):\n",
    "        sm = SMOTE(ratio = 1.0)\n",
    "        X, y = sm.fit_sample(X, y)\n",
    "        return X, y"
   ]
  },
  {
   "cell_type": "code",
   "execution_count": 21,
   "metadata": {
    "collapsed": false
   },
   "outputs": [
    {
     "name": "stderr",
     "output_type": "stream",
     "text": [
      "/Users/abalakrishna/.local/lib/python2.7/site-packages/sklearn/utils/deprecation.py:77: DeprecationWarning: Function _ratio_float is deprecated; Use a float for 'ratio' is deprecated from version 0.2. The support will be removed in 0.4. Use a dict, str, or a callable instead.\n",
      "  warnings.warn(msg, category=DeprecationWarning)\n"
     ]
    }
   ],
   "source": [
    "X_sm, y_sm = SMOTE_synthesizer(X, y)"
   ]
  },
  {
   "cell_type": "code",
   "execution_count": 29,
   "metadata": {
    "collapsed": false
   },
   "outputs": [
    {
     "data": {
      "text/plain": [
       "GradientBoostingClassifier(criterion='friedman_mse', init=None,\n",
       "              learning_rate=0.1, loss='deviance', max_depth=3,\n",
       "              max_features=None, max_leaf_nodes=None,\n",
       "              min_impurity_decrease=0.0, min_impurity_split=None,\n",
       "              min_samples_leaf=1, min_samples_split=2,\n",
       "              min_weight_fraction_leaf=0.0, n_estimators=100,\n",
       "              presort='auto', random_state=None, subsample=1.0, verbose=0,\n",
       "              warm_start=False)"
      ]
     },
     "execution_count": 29,
     "metadata": {},
     "output_type": "execute_result"
    }
   ],
   "source": [
    "final_model = GradientBoostingClassifier()\n",
    "final_model.fit(X_sm, y_sm - 1)"
   ]
  },
  {
   "cell_type": "code",
   "execution_count": 30,
   "metadata": {
    "collapsed": false
   },
   "outputs": [],
   "source": [
    "y_pred = final_model.predict(X_final_test)\n",
    "y_pred_probs = final_model.predict_proba(X_final_test)"
   ]
  },
  {
   "cell_type": "code",
   "execution_count": 31,
   "metadata": {
    "collapsed": false
   },
   "outputs": [
    {
     "name": "stdout",
     "output_type": "stream",
     "text": [
      "Average precision-recall score: 0.80\n"
     ]
    }
   ],
   "source": [
    "from sklearn.metrics import average_precision_score\n",
    "average_precision = average_precision_score(y_final_test-1, y_pred_probs[:, 1] )\n",
    "\n",
    "print('Average precision-recall score: {0:0.2f}'.format(\n",
    "      average_precision))\n"
   ]
  },
  {
   "cell_type": "code",
   "execution_count": 32,
   "metadata": {
    "collapsed": false
   },
   "outputs": [
    {
     "data": {
      "text/plain": [
       "<matplotlib.text.Text at 0x110565550>"
      ]
     },
     "execution_count": 32,
     "metadata": {},
     "output_type": "execute_result"
    },
    {
     "data": {
      "image/png": "[encoded data removed]",
      "text/plain": [
       "<matplotlib.figure.Figure at 0x110536dd0>"
      ]
     },
     "metadata": {},
     "output_type": "display_data"
    }
   ],
   "source": [
    "from sklearn.metrics import precision_recall_curve\n",
    "import matplotlib.pyplot as plt\n",
    "\n",
    "precision, recall, _ = precision_recall_curve(y_final_test-1, y_pred_probs[:, 1])\n",
    "\n",
    "plt.step(recall, precision, color='b', alpha=0.5,\n",
    "         where='post')\n",
    "plt.fill_between(recall, precision, step='post', alpha=0.5,\n",
    "                 color='b')\n",
    "\n",
    "plt.xlabel('Recall')\n",
    "plt.ylabel('Precision')\n",
    "plt.ylim([0.0, 1.05])\n",
    "plt.xlim([0.0, 1.0])\n",
    "plt.title('2-class Precision-Recall curve: AP={0:0.2f}'.format(\n",
    "          average_precision))"
   ]
  },
  {
   "cell_type": "code",
   "execution_count": 34,
   "metadata": {
    "collapsed": false
   },
   "outputs": [
    {
     "name": "stdout",
     "output_type": "stream",
     "text": [
      "             precision    recall  f1-score   support\n",
      "\n",
      "          0       1.00      1.00      1.00       565\n",
      "          1       1.00      0.60      0.75         5\n",
      "\n",
      "avg / total       1.00      1.00      1.00       570\n",
      "\n"
     ]
    }
   ],
   "source": [
    "from sklearn.metrics import classification_report\n",
    "print(classification_report(y_final_test - 1, y_pred))"
   ]
  },
  {
   "cell_type": "code",
   "execution_count": 37,
   "metadata": {
    "collapsed": false
   },
   "outputs": [],
   "source": [
    "kmeans_smote = KMeansSMOTE(\n",
    "    kmeans_args={\n",
    "        'n_clusters': 2\n",
    "    },\n",
    "    smote_args={\n",
    "        'k_neighbors': 10\n",
    "    }\n",
    ")"
   ]
  },
  {
   "cell_type": "code",
   "execution_count": 38,
   "metadata": {
    "collapsed": false
   },
   "outputs": [],
   "source": []
  },
  {
   "cell_type": "code",
   "execution_count": null,
   "metadata": {
    "collapsed": false
   },
   "outputs": [],
   "source": []
  },
  {
   "cell_type": "code",
   "execution_count": null,
   "metadata": {
    "collapsed": false
   },
   "outputs": [],
   "source": []
  },
  {
   "cell_type": "code",
   "execution_count": null,
   "metadata": {
    "collapsed": false
   },
   "outputs": [],
   "source": []
  },
  {
   "cell_type": "code",
   "execution_count": null,
   "metadata": {
    "collapsed": true
   },
   "outputs": [],
   "source": []
  }
 ],
 "metadata": {
  "anaconda-cloud": {},
  "kernelspec": {
   "display_name": "Python [tensorflow]",
   "language": "python",
   "name": "Python [tensorflow]"
  },
  "language_info": {
   "codemirror_mode": {
    "name": "ipython",
    "version": 2
   },
   "file_extension": ".py",
   "mimetype": "text/x-python",
   "name": "python",
   "nbconvert_exporter": "python",
   "pygments_lexer": "ipython2",
   "version": "2.7.12"
  }
 },
 "nbformat": 4,
 "nbformat_minor": 0
}
